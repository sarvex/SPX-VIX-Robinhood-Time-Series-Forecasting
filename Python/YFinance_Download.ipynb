{
 "cells": [
  {
   "cell_type": "code",
   "execution_count": 3,
   "metadata": {
    "collapsed": true
   },
   "outputs": [],
   "source": [
    "import yfinance as yf"
   ]
  },
  {
   "cell_type": "code",
   "execution_count": 4,
   "outputs": [],
   "source": [
    "tsla = yf.Ticker('TSLA')"
   ],
   "metadata": {
    "collapsed": false,
    "pycharm": {
     "name": "#%%\n"
    }
   }
  },
  {
   "cell_type": "code",
   "execution_count": 5,
   "outputs": [
    {
     "data": {
      "text/plain": "('2020-10-08',\n '2020-10-15',\n '2020-10-22',\n '2020-10-29',\n '2020-11-05',\n '2020-11-12',\n '2020-11-19',\n '2020-12-17',\n '2021-01-14',\n '2021-02-18',\n '2021-03-18',\n '2021-06-17',\n '2021-07-15',\n '2021-09-16',\n '2022-01-20',\n '2022-03-17',\n '2022-06-16',\n '2022-09-15',\n '2023-01-19')"
     },
     "execution_count": 5,
     "metadata": {},
     "output_type": "execute_result"
    }
   ],
   "source": [
    "tsla.options"
   ],
   "metadata": {
    "collapsed": false,
    "pycharm": {
     "name": "#%%\n"
    }
   }
  },
  {
   "cell_type": "code",
   "execution_count": 8,
   "outputs": [
    {
     "data": {
      "text/plain": "Options(calls=          contractSymbol       lastTradeDate  strike  lastPrice     bid  \\\n0    TSLA201009C00020000 2020-09-29 13:30:04    20.0     416.35  403.50   \n1    TSLA201009C00040000 2020-09-29 15:59:43    40.0     385.83  383.50   \n2    TSLA201009C00080000 2020-09-08 18:32:31    80.0     263.20  343.55   \n3    TSLA201009C00100000 2020-10-05 15:00:46   100.0     324.20  323.80   \n4    TSLA201009C00240000 2020-10-02 14:31:36   240.0     187.00  183.55   \n..                   ...                 ...     ...        ...     ...   \n121  TSLA201009C02400000 2020-08-28 19:49:25  2400.0     217.00  206.50   \n122  TSLA201009C02425000 2020-08-28 19:59:27  2425.0     208.92  201.90   \n123  TSLA201009C02450000 2020-08-27 17:22:16  2450.0     237.40  194.15   \n124  TSLA201009C02475000 2020-08-28 16:50:08  2475.0     199.85  186.60   \n125  TSLA201009C02500000 2020-08-28 19:59:27  2500.0     186.92  180.30   \n\n        ask     change  percentChange  volume  openInterest  \\\n0    408.25   0.000000       0.000000     1.0             1   \n1    388.25   0.000000       0.000000     NaN             2   \n2    348.25   0.000000       0.000000     2.0             0   \n3    328.15   5.610016       1.760889    15.0           103   \n4    188.20 -11.399994      -5.745965     1.0            55   \n..      ...        ...            ...     ...           ...   \n121  225.75  -0.869995      -0.399319    20.0             5   \n122  215.20  18.919998       9.957894    11.0             9   \n123  207.50  52.099990      28.116564     1.0             1   \n124  200.10  13.710007       7.365427     6.0             1   \n125  192.95   7.970001       4.453759   105.0           135   \n\n     impliedVolatility  inTheMoney contractSize currency  \n0            17.595708        True      REGULAR      USD  \n1            12.832033        True      REGULAR      USD  \n2             8.871098        True      REGULAR      USD  \n3             7.723633        True      REGULAR      USD  \n4             3.317873        True      REGULAR      USD  \n..                 ...         ...          ...      ...  \n121          20.122806       False      REGULAR      USD  \n122          19.741520       False      REGULAR      USD  \n123          19.358585       False      REGULAR      USD  \n124          18.994877       False      REGULAR      USD  \n125          18.675541       False      REGULAR      USD  \n\n[126 rows x 14 columns], puts=          contractSymbol       lastTradeDate  strike  lastPrice     bid  \\\n0    TSLA201009P00020000 2020-10-05 13:30:01    20.0       0.01    0.00   \n1    TSLA201009P00040000 2020-10-02 17:32:23    40.0       0.01    0.00   \n2    TSLA201009P00060000 2020-10-01 13:30:09    60.0       0.01    0.00   \n3    TSLA201009P00080000 2020-10-02 19:58:09    80.0       0.01    0.00   \n4    TSLA201009P00100000 2020-10-05 15:09:05   100.0       0.01    0.00   \n..                   ...                 ...     ...        ...     ...   \n132  TSLA201009P02210000 2020-08-27 15:09:45  2210.0     252.56  275.00   \n133  TSLA201009P02250000 2020-08-28 17:56:43  2250.0     301.39  297.50   \n134  TSLA201009P02275000 2020-08-28 19:49:05  2275.0     317.05  313.55   \n135  TSLA201009P02400000 2020-08-28 13:39:06  2400.0     343.30  393.00   \n136  TSLA201009P02500000 2020-08-27 17:15:13  2500.0     468.40  462.50   \n\n        ask     change  percentChange  volume  openInterest  \\\n0      0.01   0.000000       0.000000     1.0         163.0   \n1      0.01   0.000000       0.000000    20.0         382.0   \n2      0.01   0.000000       0.000000     2.0         673.0   \n3      0.01   0.000000       0.000000    23.0        1513.0   \n4      0.01  -0.010000     -50.000000   667.0        4485.0   \n..      ...        ...            ...     ...           ...   \n132  293.50   0.000000       0.000000     2.0           2.0   \n133  316.70  14.590027       5.087178    14.0           1.0   \n134  332.00  16.099976       5.349718     8.0           2.0   \n135  411.70 -56.100006     -14.046071     1.0           1.0   \n136  481.50   0.000000       0.000000     1.0           1.0   \n\n     impliedVolatility  inTheMoney contractSize currency  \n0             7.500001       False      REGULAR      USD  \n1             5.750003       False      REGULAR      USD  \n2             4.750004       False      REGULAR      USD  \n3             4.062505       False      REGULAR      USD  \n4             3.500001       False      REGULAR      USD  \n..                 ...         ...          ...      ...  \n132           0.000010        True      REGULAR      USD  \n133           0.000010        True      REGULAR      USD  \n134           0.000010        True      REGULAR      USD  \n135           0.000010        True      REGULAR      USD  \n136           0.000010        True      REGULAR      USD  \n\n[137 rows x 14 columns])"
     },
     "execution_count": 8,
     "metadata": {},
     "output_type": "execute_result"
    }
   ],
   "source": [
    "tsla.option_chain('2020-10-08')"
   ],
   "metadata": {
    "collapsed": false,
    "pycharm": {
     "name": "#%%\n"
    }
   }
  },
  {
   "cell_type": "code",
   "execution_count": 9,
   "outputs": [
    {
     "name": "stdout",
     "output_type": "stream",
     "text": [
      "[*********************100%***********************]  1 of 1 completed\n"
     ]
    }
   ],
   "source": [
    "tsla_dl = yf.download('tsla', '2019-01-01', auto_adjust=True)"
   ],
   "metadata": {
    "collapsed": false,
    "pycharm": {
     "name": "#%%\n"
    }
   }
  },
  {
   "cell_type": "code",
   "execution_count": null,
   "outputs": [],
   "source": [],
   "metadata": {
    "collapsed": false,
    "pycharm": {
     "name": "#%%\n"
    }
   }
  }
 ],
 "metadata": {
  "kernelspec": {
   "name": "pycharm-eb9e9a2d",
   "language": "python",
   "display_name": "PyCharm (DSC478)"
  },
  "language_info": {
   "codemirror_mode": {
    "name": "ipython",
    "version": 2
   },
   "file_extension": ".py",
   "mimetype": "text/x-python",
   "name": "python",
   "nbconvert_exporter": "python",
   "pygments_lexer": "ipython2",
   "version": "2.7.6"
  }
 },
 "nbformat": 4,
 "nbformat_minor": 0
}