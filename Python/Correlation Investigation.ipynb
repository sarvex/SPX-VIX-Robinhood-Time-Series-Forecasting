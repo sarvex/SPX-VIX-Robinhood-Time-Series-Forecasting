{
 "cells": [
  {
   "cell_type": "code",
   "execution_count": 1,
   "metadata": {
    "collapsed": true
   },
   "outputs": [],
   "source": [
    "import os\n",
    "import numpy as np\n",
    "import pandas as pd\n",
    "import plotly.express as px\n",
    "import plotly.graph_objects as go\n",
    "from plotly.subplots import make_subplots\n",
    "from kaleido.scopes.plotly import PlotlyScope\n",
    "from matplotlib import pyplot\n",
    "from statsmodels.graphics.tsaplots import plot_acf"
   ]
  },
  {
   "cell_type": "code",
   "execution_count": 2,
   "outputs": [],
   "source": [
    "from statsmodels.tsa.stattools import acf\n",
    "main_df = pd.read_csv('../data/combined_with_popularity_stats.csv', index_col=0)"
   ],
   "metadata": {
    "collapsed": false,
    "pycharm": {
     "name": "#%%\n"
    }
   }
  },
  {
   "cell_type": "code",
   "execution_count": null,
   "outputs": [],
   "source": [
    "main_df = main_df.drop(columns=['spx_Adj Close', '7_day_cor', '30_day_cor', '90_day_cor'])"
   ],
   "metadata": {
    "collapsed": false,
    "pycharm": {
     "name": "#%%\n"
    }
   }
  },
  {
   "cell_type": "code",
   "execution_count": null,
   "outputs": [],
   "source": [
    "main_df['spx_Close ln return'] = main_df['spx_Close'].transform(lambda x: np.log(x) - np.log(x.shift(1)))"
   ],
   "metadata": {
    "collapsed": false,
    "pycharm": {
     "name": "#%%\n"
    }
   }
  },
  {
   "cell_type": "code",
   "execution_count": null,
   "outputs": [],
   "source": [
    "condensed_df = main_df.dropna()"
   ],
   "metadata": {
    "collapsed": false,
    "pycharm": {
     "name": "#%%\n"
    }
   }
  },
  {
   "cell_type": "code",
   "execution_count": null,
   "outputs": [],
   "source": [
    "fig = px.line(condensed_df, x=condensed_df.index.values, y='spx_Close ln return')\n",
    "fig.update_xaxes(\n",
    "    dtick=\"M3\",\n",
    "    tickformat=\"%b\\n%Y\",\n",
    "    tickangle=0)\n",
    "fig.show()"
   ],
   "metadata": {
    "collapsed": false,
    "pycharm": {
     "name": "#%%\n"
    }
   }
  },
  {
   "cell_type": "code",
   "execution_count": null,
   "outputs": [],
   "source": [
    "fig = make_subplots(rows=4, cols=1, shared_xaxes=True)\n",
    "\n",
    "fig.append_trace(go.Scatter(x=condensed_df.index.values, y=condensed_df['spx_Close ln return'], name='spx ln return'), row=1, col=1)\n",
    "fig.append_trace(go.Scatter(x=condensed_df.index.values, y=condensed_df['vix_cur_Close'], name='vix'), row=2, col=1)\n",
    "fig.append_trace(go.Scatter(x=condensed_df.index.values, y=condensed_df['avg_users_holding_ln_ret'], name='users holding ln return'), row=3, col=1)\n",
    "fig.update_xaxes(\n",
    "    dtick=\"M3\",\n",
    "    tickformat=\"%b\\n%Y\",\n",
    "    tickangle=0)\n",
    "fig.update_layout(title='SPX ln returns, VIX, users holding ln return')\n",
    "fig.show()\n",
    "\n",
    "scope = PlotlyScope()\n",
    "\n",
    "with open(\"images/vix_spx_users_holding.png\", \"wb\") as f:\n",
    "    f.write(scope.transform(fig, format=\"png\"))"
   ],
   "metadata": {
    "collapsed": false,
    "pycharm": {
     "name": "#%%\n"
    }
   }
  },
  {
   "cell_type": "code",
   "execution_count": null,
   "outputs": [],
   "source": [
    "plot_acf(main_df['spx_Close ln return'])\n",
    "pyplot.show()"
   ],
   "metadata": {
    "collapsed": false,
    "pycharm": {
     "name": "#%%\n"
    }
   }
  }
 ],
 "metadata": {
  "kernelspec": {
   "name": "pycharm-eb9e9a2d",
   "language": "python",
   "display_name": "PyCharm (DSC478)"
  },
  "language_info": {
   "codemirror_mode": {
    "name": "ipython",
    "version": 2
   },
   "file_extension": ".py",
   "mimetype": "text/x-python",
   "name": "python",
   "nbconvert_exporter": "python",
   "pygments_lexer": "ipython2",
   "version": "2.7.6"
  }
 },
 "nbformat": 4,
 "nbformat_minor": 0
}