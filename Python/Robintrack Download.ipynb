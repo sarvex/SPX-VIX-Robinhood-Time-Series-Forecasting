{
 "cells": [
  {
   "cell_type": "code",
   "execution_count": 1,
   "outputs": [],
   "source": [
    "import tarfile\n",
    "my_tar = tarfile.open('data/robintrack-popularity-history.tar.gz')\n",
    "my_tar.extractall('./data/robintrack/') # specify which folder to extract to\n",
    "my_tar.close()"
   ],
   "metadata": {
    "collapsed": false,
    "pycharm": {
     "name": "#%%\n"
    }
   }
  },
  {
   "cell_type": "code",
   "execution_count": 2,
   "outputs": [],
   "source": [
    "import os\n",
    "import csv\n",
    "stock_pop = {}\n",
    "subdir = 'data/robintrack/tmp/popularity_export/'\n",
    "\n",
    "for _,_,files in os.walk(subdir):\n",
    "    for filename in files:\n",
    "        with open(subdir + filename, 'r') as f:\n",
    "            for row in reversed(list(csv.reader(f))):\n",
    "                stock_pop[filename.split('.')[0]] = row[1]\n",
    "                break"
   ],
   "metadata": {
    "collapsed": false,
    "pycharm": {
     "name": "#%%\n"
    }
   }
  },
  {
   "cell_type": "code",
   "execution_count": 3,
   "outputs": [],
   "source": [
    "import json\n",
    "with open(\"data/stock_popularity.json\", \"w\") as outfile:\n",
    "    json.dump(stock_pop, outfile)"
   ],
   "metadata": {
    "collapsed": false,
    "pycharm": {
     "name": "#%%\n"
    }
   }
  },
  {
   "cell_type": "code",
   "execution_count": 4,
   "outputs": [],
   "source": [
    "stock_pop = {k: v for k, v in sorted(stock_pop.items(), key=lambda item: int(item[1]), reverse=True)}"
   ],
   "metadata": {
    "collapsed": false,
    "pycharm": {
     "name": "#%%\n"
    }
   }
  },
  {
   "cell_type": "code",
   "execution_count": 5,
   "outputs": [],
   "source": [
    "top_50 = list(stock_pop.items())[:50]"
   ],
   "metadata": {
    "collapsed": false,
    "pycharm": {
     "name": "#%%\n"
    }
   }
  },
  {
   "cell_type": "code",
   "execution_count": 10,
   "outputs": [],
   "source": [
    "for stock in [tuple[0] for tuple in top_50]:\n",
    "    filename = stock + '.csv'\n",
    "    os.rename(subdir+filename, 'data/stock_popularity/' + filename)"
   ],
   "metadata": {
    "collapsed": false,
    "pycharm": {
     "name": "#%%\n"
    }
   }
  },
  {
   "cell_type": "code",
   "execution_count": null,
   "outputs": [],
   "source": [],
   "metadata": {
    "collapsed": false,
    "pycharm": {
     "name": "#%%\n"
    }
   }
  }
 ],
 "metadata": {
  "kernelspec": {
   "name": "pycharm-eb9e9a2d",
   "language": "python",
   "display_name": "PyCharm (DSC478)"
  },
  "language_info": {
   "codemirror_mode": {
    "name": "ipython",
    "version": 2
   },
   "file_extension": ".py",
   "mimetype": "text/x-python",
   "name": "python",
   "nbconvert_exporter": "python",
   "pygments_lexer": "ipython2",
   "version": "2.7.6"
  }
 },
 "nbformat": 4,
 "nbformat_minor": 0
}