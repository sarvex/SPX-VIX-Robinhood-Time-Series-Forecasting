{
 "metadata": {
  "language_info": {
   "codemirror_mode": {
    "name": "ipython",
    "version": 3
   },
   "file_extension": ".py",
   "mimetype": "text/x-python",
   "name": "python",
   "nbconvert_exporter": "python",
   "pygments_lexer": "ipython3",
   "version": "3.7.7-final"
  },
  "orig_nbformat": 2,
  "kernelspec": {
   "name": "Python 3.7.7 64-bit ('base': conda)",
   "display_name": "Python 3.7.7 64-bit ('base': conda)",
   "metadata": {
    "interpreter": {
     "hash": "e746eafcc9c3755c618fd70b7289e2c77c6dfaa86036ed9f41128bb78d1ac1c4"
    }
   }
  }
 },
 "nbformat": 4,
 "nbformat_minor": 2,
 "cells": [
  {
   "cell_type": "code",
   "execution_count": 1,
   "metadata": {},
   "outputs": [],
   "source": [
    "#import libraries\n",
    "import pandas as pd\n",
    "import matplotlib.pyplot as plt\n",
    "import numpy as np\n"
   ]
  },
  {
   "cell_type": "code",
   "execution_count": 3,
   "metadata": {},
   "outputs": [],
   "source": [
    "#configuration data\n",
    "file_path = \"D:/school/dsc425/finalproject/final_data/\"\n",
    "file_name = 'dataset_v1_20201008.csv'\n",
    "full_path = file_path+file_name"
   ]
  },
  {
   "cell_type": "code",
   "execution_count": 4,
   "metadata": {},
   "outputs": [],
   "source": [
    "#load the data into a dataframe and set index to date\n",
    "vix_combined_data = pd.read_csv(full_path)\n",
    "vix_combined_df_clean = vix_combined_data .loc[:, ~vix_combined_data .columns.str.contains('^Unnamed')] #remove unnamed columns\n",
    "vix_combined_df_clean.index = pd.to_datetime(vix_combined_df_clean['Date']) #set date to index\n",
    "del vix_combined_df_clean['Date'] # delete the date column as now index\n",
    "\n"
   ]
  },
  {
   "cell_type": "code",
   "execution_count": null,
   "metadata": {},
   "outputs": [],
   "source": [
    "vix_combined_df_clean"
   ]
  },
  {
   "cell_type": "code",
   "execution_count": 5,
   "metadata": {},
   "outputs": [],
   "source": [
    "#clean out the ln columns where ln was hard coded from the original file - recalculating using python\n",
    "for col in vix_combined_df_clean.columns:\n",
    "    if  'ln' in col or 'RV' in col:\n",
    "        del vix_combined_df_clean[col] "
   ]
  },
  {
   "cell_type": "code",
   "execution_count": 6,
   "metadata": {},
   "outputs": [],
   "source": [
    "# create a log for each spx column\n",
    "for col in vix_combined_df_clean.columns:\n",
    "    if 'spx' in col:\n",
    "        new_column_name = \"ln_\"+ col\n",
    "        vix_combined_df_clean[new_column_name] = np.log(vix_combined_df_clean[col])"
   ]
  },
  {
   "cell_type": "code",
   "execution_count": 7,
   "metadata": {},
   "outputs": [],
   "source": [
    "#create  50 day and 200 day moving average values\n",
    "column_list = list(vix_combined_df_clean.columns)\n",
    "for col in column_list:\n",
    "    if 'spx' in col:\n",
    "        ma_50_day_col_name = col +\"_\" + \"50_day_MA\"\n",
    "        ma_200_day_col_name = col +\"_\" + \"200_day_MA\"\n",
    "        vix_combined_df_clean[ma_50_day_col_name] = vix_combined_df_clean[col].rolling(50,min_periods=1).mean()\n",
    "\n"
   ]
  },
  {
   "cell_type": "code",
   "execution_count": null,
   "metadata": {
    "tags": []
   },
   "outputs": [],
   "source": [
    "print(vix_combined_df_clean)"
   ]
  },
  {
   "cell_type": "code",
   "execution_count": null,
   "metadata": {},
   "outputs": [],
   "source": []
  },
  {
   "cell_type": "code",
   "execution_count": 8,
   "metadata": {},
   "outputs": [],
   "source": [
    "vix_combined_df_clean.to_csv(file_path+'vix_panda_with_index.csv',index=True)"
   ]
  },
  {
   "cell_type": "code",
   "execution_count": null,
   "metadata": {
    "tags": []
   },
   "outputs": [],
   "source": [
    "x_axis = vix_combined_data.index\n",
    "x_axis_name = 'Date'\n",
    "for col in vix_combined_df_clean.columns:\n",
    "    if  'spx' in col:\n",
    "        y1 = vix_combined_df_clean[col]\n",
    "        y1_name = col\n",
    "        for col2 in vix_combined_df_clean.columns:\n",
    "            if 'vix' in col2:\n",
    "                y2 = vix_combined_df_clean[col2]\n",
    "                y2_name = col2\n",
    "                data_columns = [y1,y2]\n",
    "                data_column_names = [x_axis_name,y1_name,y2_name]\n",
    "                print(col, col2)\n",
    "                create_dual_plots(x_axis, data_columns,data_column_names)"
   ]
  },
  {
   "cell_type": "code",
   "execution_count": null,
   "metadata": {},
   "outputs": [],
   "source": [
    "vix_test = pd.read_csv('vix_panda_with_index.csv')"
   ]
  },
  {
   "cell_type": "code",
   "execution_count": null,
   "metadata": {
    "tags": []
   },
   "outputs": [],
   "source": [
    "def create_dual_plots(x_axis, data_columns, data_column_names):\n",
    "    '''\n",
    "        Take in as input x-axis two lists column data and column name\n",
    "    '''\n",
    "    fig, ax = plt.subplots(figsize=(10, 6))\n",
    "    axb = ax.twinx()\n",
    "    df=vix_combined_data\n",
    "    x = x_axis\n",
    "    y1 = data_columns[0]\n",
    "    y2 = data_columns[1]\n",
    "    x_axis_name = data_column_names[0]\n",
    "    y1_column_name = data_column_names[1]\n",
    "    y2_column_name = data_column_names[2]\n",
    "    title_temp = y1_column_name + \" \" + y2_column_name\n",
    "    # Same as above\n",
    "    ax.set_xlabel(x_axis_name)\n",
    "    ax.set_ylabel(y1_column_name)\n",
    "    ax.set_title(title_temp)\n",
    "    ax.grid(True)\n",
    "\n",
    "    # Plotting on the first y-axis\n",
    "    ax.plot(x, y1, color='tab:orange', label=y1_column_name)\n",
    "    ax.legend(loc='upper left')\n",
    "\n",
    "    # Plotting on the second y-axis\n",
    "    axb.set_ylabel(y2_column_name)\n",
    "    axb.plot(x, y2, color='black', label=y2_column_name)\n",
    "    axb.legend(loc='upper right')\n",
    "\n",
    "    path = \"D:/school/dsc425/finalproject/graphs/\"\n",
    "    file_name = path+title_temp + \".png\"\n",
    "    plt.savefig(file_name)\n"
   ]
  },
  {
   "cell_type": "code",
   "execution_count": null,
   "metadata": {},
   "outputs": [],
   "source": []
  }
 ]
}