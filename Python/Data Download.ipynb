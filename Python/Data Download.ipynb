{
 "cells": [
  {
   "cell_type": "markdown",
   "metadata": {
    "collapsed": true,
    "pycharm": {
     "name": "#%% md\n"
    }
   },
   "source": [
    "### DSC425 Final Project\n",
    "#### Data Download and Merge"
   ]
  },
  {
   "cell_type": "code",
   "execution_count": 2,
   "outputs": [],
   "source": [
    "# libraries\n",
    "import pandas as pd"
   ],
   "metadata": {
    "collapsed": false,
    "pycharm": {
     "name": "#%%\n"
    }
   }
  },
  {
   "cell_type": "code",
   "execution_count": 51,
   "outputs": [],
   "source": [
    "# for use with directory with path 'data/'\n",
    "# read in .csv files\n",
    "\n",
    "spx = pd.read_csv('data/^GSPC.csv')\n",
    "vix_3m = pd.read_csv('data/vix3mdailyprices.csv', header=2)\n",
    "vix_6m = pd.read_csv('data/vix6mdailyprices.csv', header=2)\n",
    "vix_9d = pd.read_csv('data/vix9ddailyprices.csv', header=3)\n",
    "vix_cur = pd.read_csv('data/vixcurrent.csv', header=1)"
   ],
   "metadata": {
    "collapsed": false,
    "pycharm": {
     "name": "#%%\n"
    }
   }
  },
  {
   "cell_type": "code",
   "execution_count": 52,
   "outputs": [],
   "source": [
    "# uniform column names\n",
    "vix_3m.rename(columns={'Unnamed: 0': 'Date', 'OPEN': 'Open', 'HIGH' : 'High', 'LOW': 'Low', 'CLOSE': 'Close'}, inplace=True)\n",
    "vix_cur.rename(columns={'VIX Open': 'Open', 'VIX High' : 'High', 'VIX Low': 'Low', 'VIX Close': 'Close'}, inplace=True)"
   ],
   "metadata": {
    "collapsed": false,
    "pycharm": {
     "name": "#%%\n"
    }
   }
  },
  {
   "cell_type": "code",
   "execution_count": 53,
   "outputs": [
    {
     "name": "stdout",
     "output_type": "stream",
     "text": [
      "<class 'pandas.core.frame.DataFrame'>\n",
      "RangeIndex: 4213 entries, 0 to 4212\n",
      "Data columns (total 7 columns):\n",
      " #   Column     Non-Null Count  Dtype  \n",
      "---  ------     --------------  -----  \n",
      " 0   Date       4213 non-null   object \n",
      " 1   Open       4213 non-null   float64\n",
      " 2   High       4213 non-null   float64\n",
      " 3   Low        4213 non-null   float64\n",
      " 4   Close      4213 non-null   float64\n",
      " 5   Adj Close  4213 non-null   float64\n",
      " 6   Volume     4213 non-null   int64  \n",
      "dtypes: float64(5), int64(1), object(1)\n",
      "memory usage: 230.5+ KB\n"
     ]
    }
   ],
   "source": [
    "spx.info()\n",
    "# need to convert date to datetime"
   ],
   "metadata": {
    "collapsed": false,
    "pycharm": {
     "name": "#%%\n"
    }
   }
  },
  {
   "cell_type": "code",
   "execution_count": 54,
   "outputs": [],
   "source": [
    "# fix broken dates\n",
    "vix_9d['Date'].replace({'*4/20/2011': '4/20/2011'}, inplace=True)\n"
   ],
   "metadata": {
    "collapsed": false,
    "pycharm": {
     "name": "#%%\n"
    }
   }
  },
  {
   "cell_type": "code",
   "execution_count": 55,
   "outputs": [],
   "source": [
    "# convert to datetime\n",
    "spx['Date'] = pd.to_datetime(spx['Date'])\n",
    "vix_3m['Date'] = pd.to_datetime(vix_3m['Date'])\n",
    "vix_6m['Date'] = pd.to_datetime(vix_6m['Date'])\n",
    "vix_9d['Date'] = pd.to_datetime(vix_9d['Date'])\n",
    "vix_cur['Date'] = pd.to_datetime(vix_cur['Date'])"
   ],
   "metadata": {
    "collapsed": false,
    "pycharm": {
     "name": "#%%\n"
    }
   }
  },
  {
   "cell_type": "code",
   "execution_count": 56,
   "outputs": [],
   "source": [
    "# add prefixes to differentiate\n",
    "spx = spx.add_prefix('spx_').rename(columns={'spx_Date': 'Date'})\n",
    "vix_3m = vix_3m.add_prefix('vix_3m_')\n",
    "vix_6m = vix_6m.add_prefix('vix_6m_')\n",
    "vix_9d = vix_9d.add_prefix('vix_9d_')\n",
    "vix_cur = vix_cur.add_prefix('vix_cur_')"
   ],
   "metadata": {
    "collapsed": false,
    "pycharm": {
     "name": "#%%\n"
    }
   }
  },
  {
   "cell_type": "code",
   "execution_count": 57,
   "outputs": [],
   "source": [
    "# merge data together\n",
    "master = spx.merge(vix_3m, how='outer', left_on='Date', right_on='vix_3m_Date').drop(columns='vix_3m_Date')\n",
    "master = master.merge(vix_6m, how='outer', left_on='Date', right_on='vix_6m_Date').drop(columns='vix_6m_Date')\n",
    "master = master.merge(vix_9d, how='outer', left_on='Date', right_on='vix_9d_Date').drop(columns='vix_9d_Date')\n",
    "master = master.merge(vix_cur, how='outer', left_on='Date', right_on='vix_cur_Date').drop(columns='vix_cur_Date')"
   ],
   "metadata": {
    "collapsed": false,
    "pycharm": {
     "name": "#%%\n"
    }
   }
  },
  {
   "cell_type": "code",
   "execution_count": 60,
   "outputs": [],
   "source": [
    "# to .csv\n",
    "master.to_csv('data/combined_data.csv')\n",
    "\n"
   ],
   "metadata": {
    "collapsed": false,
    "pycharm": {
     "name": "#%%\n"
    }
   }
  }
 ],
 "metadata": {
  "kernelspec": {
   "name": "pycharm-eb9e9a2d",
   "language": "python",
   "display_name": "PyCharm (DSC478)"
  },
  "language_info": {
   "codemirror_mode": {
    "name": "ipython",
    "version": 2
   },
   "file_extension": ".py",
   "mimetype": "text/x-python",
   "name": "python",
   "nbconvert_exporter": "python",
   "pygments_lexer": "ipython2",
   "version": "2.7.6"
  }
 },
 "nbformat": 4,
 "nbformat_minor": 0
}